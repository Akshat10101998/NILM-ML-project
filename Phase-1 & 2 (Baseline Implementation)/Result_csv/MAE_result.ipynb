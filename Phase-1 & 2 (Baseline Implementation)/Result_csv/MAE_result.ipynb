{
 "cells": [
  {
   "cell_type": "code",
   "execution_count": 3,
   "metadata": {},
   "outputs": [],
   "source": [
    "import numpy as np\n",
    "import pandas as pd\n",
    "import matplotlib.pyplot as plt\n",
    "import seaborn as sns\n",
    "\n",
    "%matplotlib inline"
   ]
  },
  {
   "cell_type": "code",
   "execution_count": 4,
   "metadata": {},
   "outputs": [
    {
     "name": "stdout",
     "output_type": "stream",
     "text": [
      "Experiment Number 1 RMSE: 74.62\n",
      "Experiment Number 2 RMSE: 12.94\n",
      "Experiment Number 3 RMSE: 18.13\n",
      "Experiment Number 4 RMSE: 19.06\n",
      "Experiment Number 5 RMSE: 50.46\n",
      "Experiment Number 6 RMSE: 39.69\n",
      "Experiment Number 7 RMSE: 128.13\n",
      "Experiment Number 8 RMSE: 1.83\n",
      "Experiment Number 9 RMSE: 195.48\n",
      "Experiment Number 10 RMSE: 74.23\n",
      "Experiment Number 11 RMSE: 18.6\n",
      "Experiment Number 12 RMSE: 57.02\n",
      "Experiment Number 13 RMSE: 55.59\n",
      "Experiment Number 14 RMSE: 109.11\n",
      "Experiment Number 15 RMSE: 82.14\n",
      "Experiment Number 16 RMSE: 125.65\n",
      "Experiment Number 17 RMSE: 12.55\n",
      "Experiment Number 18 RMSE: 218.45\n",
      "Experiment Number 19 RMSE: 116.91\n",
      "Experiment Number 20 RMSE: 29.8\n",
      "Experiment Number 21 RMSE: 87.57\n",
      "Experiment Number 22 RMSE: 78.2\n",
      "Experiment Number 23 RMSE: 49.86\n",
      "Experiment Number 24 RMSE: 89.97\n"
     ]
    }
   ],
   "source": [
    "################## RMSE ##################\n",
    "\n",
    "for j in range(1, 25):\n",
    "    file_name1 = 'gt_csv_exp' + str(j) + '.csv'\n",
    "    file_name2 = 'pred_csv_exp' + str(j) + '.csv'\n",
    "    df_gt = pd.read_csv(file_name1)\n",
    "    df_pred = pd.read_csv(file_name2)\n",
    "\n",
    "    if j in [1, 2, 3, 4, 10, 11 , 12, 13]:\n",
    "        appliance = 'fridge'\n",
    "    elif j in [5, 6, 7, 14, 15, 16]:\n",
    "        appliance = 'microwave'\n",
    "    elif j in [8, 9, 17, 18]:\n",
    "        appliance = 'washer dryer'\n",
    "    else:\n",
    "        appliance = 'dish washer'\n",
    "\n",
    "    a = 0\n",
    "    for i in range(len(df_pred)):\n",
    "        a += (df_gt.loc[i, appliance] - df_pred.loc[i, appliance])**2\n",
    "\n",
    "    a /= len(df_pred)\n",
    "    a = a**0.5\n",
    "    print(f\"Experiment Number {j} RMSE: {round(a,2)}\")\n"
   ]
  },
  {
   "cell_type": "code",
   "execution_count": 5,
   "metadata": {},
   "outputs": [
    {
     "name": "stdout",
     "output_type": "stream",
     "text": [
      "Experiment Number 1 MAE: 54.05\n",
      "Experiment Number 2 MAE: 7.54\n",
      "Experiment Number 3 MAE: 12.87\n",
      "Experiment Number 4 MAE: 16.65\n",
      "Experiment Number 5 MAE: 10.44\n",
      "Experiment Number 6 MAE: 8.7\n",
      "Experiment Number 7 MAE: 17.01\n",
      "Experiment Number 8 MAE: 1.59\n",
      "Experiment Number 9 MAE: 25.72\n",
      "Experiment Number 10 MAE: 36.48\n",
      "Experiment Number 11 MAE: 11.51\n",
      "Experiment Number 12 MAE: 31.83\n",
      "Experiment Number 13 MAE: 41.89\n",
      "Experiment Number 14 MAE: 30.47\n",
      "Experiment Number 15 MAE: 11.71\n",
      "Experiment Number 16 MAE: 18.12\n",
      "Experiment Number 17 MAE: 2.9\n",
      "Experiment Number 18 MAE: 28.3\n",
      "Experiment Number 19 MAE: 23.05\n",
      "Experiment Number 20 MAE: 3.55\n",
      "Experiment Number 21 MAE: 14.75\n",
      "Experiment Number 22 MAE: 15.4\n",
      "Experiment Number 23 MAE: 8.36\n",
      "Experiment Number 24 MAE: 15.52\n"
     ]
    }
   ],
   "source": [
    "################## MAE ##################\n",
    "\n",
    "for j in range(1, 25):\n",
    "    file_name1 = 'gt_csv_exp' + str(j) + '.csv'\n",
    "    file_name2 = 'pred_csv_exp' + str(j) + '.csv'\n",
    "    df_gt = pd.read_csv(file_name1)\n",
    "    df_pred = pd.read_csv(file_name2)\n",
    "\n",
    "    if j in [1, 2, 3, 4, 10, 11 , 12, 13]:\n",
    "        appliance = 'fridge'\n",
    "    elif j in [5, 6, 7, 14, 15, 16]:\n",
    "        appliance = 'microwave'\n",
    "    elif j in [8, 9, 17, 18]:\n",
    "        appliance = 'washer dryer'\n",
    "    else:\n",
    "        appliance = 'dish washer'\n",
    "\n",
    "    a = 0\n",
    "    for i in range(len(df_pred)):\n",
    "        a += abs(df_gt.loc[i, appliance] - df_pred.loc[i, appliance])\n",
    "\n",
    "    a /= len(df_pred)\n",
    "    print(f\"Experiment Number {j} MAE: {round(a,2)}\")"
   ]
  },
  {
   "cell_type": "code",
   "execution_count": 6,
   "metadata": {},
   "outputs": [
    {
     "data": {
      "image/png": "[encoded data removed]",
      "text/plain": [
       "<Figure size 432x288 with 1 Axes>"
      ]
     },
     "metadata": {
      "needs_background": "light"
     },
     "output_type": "display_data"
    }
   ],
   "source": [
    "df_gt = pd.read_csv('gt_csv_exp2.csv')\n",
    "df_pred = pd.read_csv('pred_csv_exp2.csv')\n",
    "\n",
    "date = []\n",
    "for i in range(len(df_gt)):\n",
    "    date.append(df_gt['Unnamed: 0'][i][:10])\n",
    "\n",
    "plt.plot(date, df_gt['fridge'], label = 'Truth')\n",
    "plt.plot(date, df_pred['fridge'], label = 'Predicted')\n",
    "plt.title(\"Fridge\")\n",
    "plt.ylabel(\"Power (W)\")\n",
    "plt.xlabel(\"Dates\")\n",
    "plt.xticks(rotation=90)\n",
    "plt.ylim(0, 1600)\n",
    "plt.legend(loc = 'best')\n",
    "# plt.savefig('plt_exp23.png', bbox_inches = 'tight')\n",
    "plt.show()\n"
   ]
  },
  {
   "cell_type": "code",
   "execution_count": null,
   "metadata": {},
   "outputs": [],
   "source": [
    "################## Plots ##################\n",
    "\n",
    "import pandas as pd\n",
    "import matplotlib.pyplot as plt\n",
    "\n",
    "for j in range(23, 24):\n",
    "    file_name1 = 'gt_csv_exp' + str(j) + '.csv'\n",
    "    file_name2 = 'pred_csv_exp' + str(j) + '.csv'\n",
    "    df_gt = pd.read_csv(file_name1)\n",
    "    df_pred = pd.read_csv(file_name2)\n",
    "\n",
    "    date = []\n",
    "    for i in range(len(df_gt)):\n",
    "        date.append(df_gt['Unnamed: 0'][i][:10])\n",
    "    \n",
    "    if j in [1, 2, 3, 4, 10, 11 , 12, 13]:\n",
    "        appliance = 'fridge'\n",
    "    elif j in [5, 6, 7, 14, 15, 16]:\n",
    "        appliance = 'microwave'\n",
    "    elif j in [8, 9, 17, 18]:\n",
    "        appliance = 'washer dryer'\n",
    "    else:\n",
    "        appliance = 'dish washer'\n",
    "    \n",
    "    plt.plot(date, df_gt[appliance], label = 'Truth')\n",
    "    plt.plot(date, df_pred[appliance], label = 'Predicted')\n",
    "    plt.title(f\"Power vs Date for {appliance} Experiment: {j}\")\n",
    "    plt.ylabel(\"Power (W)\")\n",
    "    plt.xticks(rotation=75)\n",
    "    plt.legend(loc='best')\n",
    "    plt.ylim(0, 1600)\n",
    "    filename = 'plt_exp' + str(j) + '.pdf'\n",
    "    plt.savefig(filename, bbox_inches = 'tight')\n",
    "    plt.close()"
   ]
  }
 ],
 "metadata": {
  "interpreter": {
   "hash": "8da01e5a71448ea74f54d88afa8911010d1d12e23bc7e103d40d5def4a09152c"
  },
  "kernelspec": {
   "display_name": "Python 3.9.6 64-bit",
   "language": "python",
   "name": "python3"
  },
  "language_info": {
   "codemirror_mode": {
    "name": "ipython",
    "version": 3
   },
   "file_extension": ".py",
   "mimetype": "text/x-python",
   "name": "python",
   "nbconvert_exporter": "python",
   "pygments_lexer": "ipython3",
   "version": "3.9.6"
  },
  "orig_nbformat": 4
 },
 "nbformat": 4,
 "nbformat_minor": 2
}
